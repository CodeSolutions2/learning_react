{
 "cells": [
  {
   "cell_type": "code",
   "execution_count": 1,
   "id": "2953715c-30c0-4e4a-bb66-e25b39f8b7cc",
   "metadata": {},
   "outputs": [
    {
     "name": "stdout",
     "output_type": "stream",
     "text": [
      "README.md  Untitled.ipynb  setup\n"
     ]
    }
   ],
   "source": [
    "!ls"
   ]
  },
  {
   "cell_type": "code",
   "execution_count": null,
   "id": "7467fe8f-0138-4e0c-a368-a35d13c9c21a",
   "metadata": {},
   "outputs": [],
   "source": []
  },
  {
   "cell_type": "code",
   "execution_count": 10,
   "id": "f1cc1a34-e818-4d68-8eab-d46493ca3447",
   "metadata": {},
   "outputs": [
    {
     "name": "stdout",
     "output_type": "stream",
     "text": [
      "Updating 2747db0..d842b98\n",
      "Fast-forward\n",
      " 2024_05_15_09_47_35.mp3 | Bin \u001b[31m0\u001b[m -> \u001b[32m147859\u001b[m bytes\n",
      " 1 file changed, 0 insertions(+), 0 deletions(-)\n",
      " create mode 100644 2024_05_15_09_47_35.mp3\n"
     ]
    }
   ],
   "source": [
    "!git pull"
   ]
  },
  {
   "cell_type": "code",
   "execution_count": null,
   "id": "e5a27f6c-b247-4a60-9777-db48e5789178",
   "metadata": {},
   "outputs": [],
   "source": [
    "!git add ."
   ]
  },
  {
   "cell_type": "markdown",
   "id": "250a5d71-968d-4709-a838-08e3988db78c",
   "metadata": {},
   "source": [
    "# Option 0: [basic python tool] use the recommended SpeechRecognition package\n",
    "## But this is not from python, it is a GitHub package that uses 13 different model APIs"
   ]
  },
  {
   "cell_type": "code",
   "execution_count": null,
   "id": "c860f60a-98e4-440c-a31d-3948033a05ce",
   "metadata": {},
   "outputs": [],
   "source": [
    "# https://pypi.org/project/SpeechRecognition/\n",
    "# https://github.com/Uberi/speech_recognition\n",
    "!pip install SpeechRecognition  # uses model APIs to perform speech recognition"
   ]
  },
  {
   "cell_type": "code",
   "execution_count": null,
   "id": "0b58e69b-dc6b-428f-b9a0-f84a3b50c407",
   "metadata": {},
   "outputs": [],
   "source": [
    "# Install ffmpeg for .mp3 to .wav conversiion\n",
    "\n",
    "ffmpeg -i input.mp3 output.wav\n",
    "\n",
    "ffmpeg -version"
   ]
  },
  {
   "cell_type": "code",
   "execution_count": null,
   "id": "3494b344-fb81-4e8c-ba44-400b6878da01",
   "metadata": {},
   "outputs": [],
   "source": []
  },
  {
   "cell_type": "code",
   "execution_count": null,
   "id": "c9f24c56-39d3-470b-81a8-cedd9868a929",
   "metadata": {},
   "outputs": [],
   "source": []
  },
  {
   "cell_type": "markdown",
   "id": "9310314a-c21c-4e04-bbb6-3bf2f2889931",
   "metadata": {},
   "source": [
    "# Option 1: try my own deep learning model"
   ]
  },
  {
   "cell_type": "code",
   "execution_count": null,
   "id": "3762e726-610a-4f06-9799-05223bf9a5c4",
   "metadata": {},
   "outputs": [],
   "source": []
  },
  {
   "cell_type": "code",
   "execution_count": null,
   "id": "9ae9d550-a097-4efb-bb2d-2a1864abb6a8",
   "metadata": {},
   "outputs": [],
   "source": []
  },
  {
   "cell_type": "markdown",
   "id": "5199fd17-0c61-4112-958f-29e2db3feb6f",
   "metadata": {},
   "source": [
    "# Option 2: try to fine tune an existing audio model"
   ]
  },
  {
   "cell_type": "code",
   "execution_count": null,
   "id": "88b182d4-480e-4607-9973-73a49c55aabf",
   "metadata": {},
   "outputs": [],
   "source": []
  }
 ],
 "metadata": {
  "kernelspec": {
   "display_name": "Python 3 (ipykernel)",
   "language": "python",
   "name": "python3"
  },
  "language_info": {
   "codemirror_mode": {
    "name": "ipython",
    "version": 3
   },
   "file_extension": ".py",
   "mimetype": "text/x-python",
   "name": "python",
   "nbconvert_exporter": "python",
   "pygments_lexer": "ipython3",
   "version": "3.10.13"
  }
 },
 "nbformat": 4,
 "nbformat_minor": 5
}
