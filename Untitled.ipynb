{
 "cells": [
  {
   "cell_type": "code",
   "execution_count": 4,
   "id": "ad122e09-a6df-4959-a88c-4fc1e027a3eb",
   "metadata": {},
   "outputs": [],
   "source": [
    "import os\n",
    "import matplotlib.pyplot as plt\n",
    "import PIL\n",
    "from PIL import Image\n",
    "\n",
    "from PIL import ImageFont\n",
    "from PIL import ImageDraw "
   ]
  },
  {
   "cell_type": "code",
   "execution_count": 16,
   "id": "c7e9917d-0066-46f2-af4f-6cf29b8213f1",
   "metadata": {},
   "outputs": [],
   "source": [
    "def create_a_background(rgb_value, save_img_name, phrase, dict_font):\n",
    "    width = 64\n",
    "    height = width\n",
    "    \n",
    "    fontsize = dict_font['fontsize']\n",
    "    font_startfromleft = dict_font['startfromleft']\n",
    "    font_startfromtop = dict_font['startfromtop']\n",
    "\n",
    "    # Create image object which is of specific color background\n",
    "    # https://rgbcolorpicker.com/\n",
    "    img = PIL.Image.new(mode = \"RGB\", size = (width, height), color = (rgb_value))\n",
    "    img.show()\n",
    "    img.save(f\"/workspaces/codespaces_setup/{save_img_name}.png\")\n",
    "\n",
    "    # Add text to the image\n",
    "    img = Image.open(f\"/workspaces/codespaces_setup/{save_img_name}.png\")\n",
    "    draw = ImageDraw.Draw(img)\n",
    "    # font = ImageFont.truetype('/workspaces/codespaces_setup/FreeMono.ttf', fontsize)\n",
    "    font = ImageFont.truetype('/workspaces/codespaces_setup/FreeMono.ttf', fontsize)\n",
    "\n",
    "    draw.text((font_startfromleft, font_startfromtop), phrase, font=font, fill=(0,0,0))\n",
    "\n",
    "    img.show()\n",
    "    img.save(f\"/workspaces/codespaces_setup/{save_img_name}.png\")\n",
    "    \n",
    "    # --------------------------------------\n",
    "    \n",
    "    # View image\n",
    "    rgb_image = Image.open(f\"/workspaces/codespaces_setup/{save_img_name}.png\")\n",
    "\n",
    "    # View a sample image\n",
    "    fig, ax0 = plt.subplots(nrows=1, ncols=1, figsize=(4,4))\n",
    "\n",
    "    ax0.imshow(rgb_image)\n",
    "    ax0.axis('off')\n",
    "    ax0.set_title(\"\", size=20)\n",
    "    plt.show()"
   ]
  },
  {
   "cell_type": "code",
   "execution_count": 36,
   "id": "94289da1-dad0-477b-a59d-4a7d3a34f1b5",
   "metadata": {},
   "outputs": [
    {
     "data": {
      "image/jpeg": "[encoded data removed]",
      "image/png": "[encoded data removed]",
      "text/plain": [
       "<PIL.Image.Image image mode=RGB size=64x64>"
      ]
     },
     "metadata": {},
     "output_type": "display_data"
    },
    {
     "name": "stdout",
     "output_type": "stream",
     "text": [
      "phrase: ☺\n"
     ]
    },
    {
     "data": {
      "image/jpeg": "[encoded data removed]",
      "image/png": "[encoded data removed]",
      "text/plain": [
       "<PIL.PngImagePlugin.PngImageFile image mode=RGB size=64x64>"
      ]
     },
     "metadata": {},
     "output_type": "display_data"
    },
    {
     "data": {
      "image/png": "[encoded data removed]",
      "text/plain": [
       "<Figure size 400x400 with 1 Axes>"
      ]
     },
     "metadata": {},
     "output_type": "display_data"
    }
   ],
   "source": [
    "# Positive sentiment\n",
    "# phrase = '¹‿¹'\n",
    "# dict_font = {'fontsize': 36, 'startfromleft': 0, 'startfromtop': 9}\n",
    "phrase = \"☺\"\n",
    "dict_font = {'fontsize': 80, 'startfromleft': 7, 'startfromtop': -10}\n",
    "save_img_name = \"positive_sentiment\"\n",
    "rgb_value = 195, 219, 215\n",
    "create_a_background(rgb_value, save_img_name, phrase, dict_font)"
   ]
  },
  {
   "cell_type": "code",
   "execution_count": 40,
   "id": "a8f71743-4b9c-47ec-9a89-e24a61c77eaa",
   "metadata": {},
   "outputs": [
    {
     "data": {
      "image/jpeg": "[encoded data removed]",
      "image/png": "[encoded data removed]",
      "text/plain": [
       "<PIL.Image.Image image mode=RGB size=64x64>"
      ]
     },
     "metadata": {},
     "output_type": "display_data"
    },
    {
     "name": "stdout",
     "output_type": "stream",
     "text": [
      "phrase: 😐︎\n"
     ]
    },
    {
     "data": {
      "image/jpeg": "[encoded data removed]",
      "image/png": "[encoded data removed]",
      "text/plain": [
       "<PIL.PngImagePlugin.PngImageFile image mode=RGB size=64x64>"
      ]
     },
     "metadata": {},
     "output_type": "display_data"
    },
    {
     "data": {
      "image/png": "[encoded data removed]",
      "text/plain": [
       "<Figure size 400x400 with 1 Axes>"
      ]
     },
     "metadata": {},
     "output_type": "display_data"
    }
   ],
   "source": [
    "# Neutral sentiment\n",
    "phrase = '¹_¹'\n",
    "phrase = '😐︎'\n",
    "dict_font = {'fontsize': 36, 'startfromleft': 0, 'startfromtop': 9}\n",
    "save_img_name = \"neutral_sentiment\"\n",
    "rgb_value = 195, 219, 215\n",
    "create_a_background(rgb_value, save_img_name, phrase, dict_font)"
   ]
  },
  {
   "cell_type": "code",
   "execution_count": 34,
   "id": "3a4ceae9-60e1-407e-a99d-15a59a2ca740",
   "metadata": {},
   "outputs": [
    {
     "data": {
      "image/jpeg": "[encoded data removed]",
      "image/png": "[encoded data removed]",
      "text/plain": [
       "<PIL.Image.Image image mode=RGB size=64x64>"
      ]
     },
     "metadata": {},
     "output_type": "display_data"
    },
    {
     "name": "stdout",
     "output_type": "stream",
     "text": [
      "phrase: ☹\n"
     ]
    },
    {
     "data": {
      "image/jpeg": "[encoded data removed]",
      "image/png": "[encoded data removed]",
      "text/plain": [
       "<PIL.PngImagePlugin.PngImageFile image mode=RGB size=64x64>"
      ]
     },
     "metadata": {},
     "output_type": "display_data"
    },
    {
     "data": {
      "image/png": "[encoded data removed]",
      "text/plain": [
       "<Figure size 400x400 with 1 Axes>"
      ]
     },
     "metadata": {},
     "output_type": "display_data"
    }
   ],
   "source": [
    "# Negative sentiment\n",
    "phrase = '☹'\n",
    "dict_font = {'fontsize': 80, 'startfromleft': 7, 'startfromtop': -10}\n",
    "save_img_name = \"negative_sentiment\"\n",
    "rgb_value = 195, 219, 215\n",
    "create_a_background(rgb_value, save_img_name, phrase, dict_font)"
   ]
  },
  {
   "cell_type": "code",
   "execution_count": null,
   "id": "618c8d1a-61b6-4c3a-8aff-aede0a29d370",
   "metadata": {},
   "outputs": [],
   "source": []
  },
  {
   "cell_type": "code",
   "execution_count": null,
   "id": "39d2bce9-0e40-488c-bd86-b6a842de4b7a",
   "metadata": {},
   "outputs": [],
   "source": []
  },
  {
   "cell_type": "code",
   "execution_count": null,
   "id": "50feed70-995e-4136-af6c-bc2c2e90302d",
   "metadata": {},
   "outputs": [],
   "source": [
    "def plot_squares_in_strip(save_img_name_list):\n",
    "\n",
    "\n",
    "  for save_img_name in save_img_name_list:\n",
    "\n",
    "    # View image\n",
    "    rgb_image = Image.open(f\"/workspaces/codespaces_setup/{save_img_name}.png\")\n",
    "\n",
    "    # View a sample image\n",
    "    fig, ax0 = plt.subplots(nrows=1, ncols=1, figsize=(4,4))\n",
    "\n",
    "    ax0.imshow(rgb_image)\n",
    "    ax0.axis('off')\n",
    "    ax0.set_title(\"\", size=20)\n",
    "    plt.show()\n"
   ]
  },
  {
   "cell_type": "code",
   "execution_count": null,
   "id": "76c716ef-5f5b-4f76-9219-fc7ba910804c",
   "metadata": {},
   "outputs": [],
   "source": []
  },
  {
   "cell_type": "code",
   "execution_count": null,
   "id": "22914574-c565-4b20-8c3b-2ca7a92db2e3",
   "metadata": {},
   "outputs": [],
   "source": [
    "!rm "
   ]
  },
  {
   "cell_type": "code",
   "execution_count": null,
   "id": "e4116d2d-111f-4187-9674-54ffb645a6ef",
   "metadata": {},
   "outputs": [],
   "source": []
  },
  {
   "cell_type": "code",
   "execution_count": 1,
   "id": "e4b5dd10-752f-4d18-8bd7-0d5b6dbc90c8",
   "metadata": {},
   "outputs": [
    {
     "name": "stdout",
     "output_type": "stream",
     "text": [
      "remote: Enumerating objects: 4, done.\u001b[K\n",
      "remote: Counting objects: 100% (4/4), done.\u001b[K\n",
      "remote: Compressing objects: 100% (3/3), done.\u001b[K\n",
      "remote: Total 3 (delta 0), reused 0 (delta 0), pack-reused 0\u001b[K\n",
      "Unpacking objects: 100% (3/3), 158.78 KiB | 1.42 MiB/s, done.\n",
      "From https://github.com/CodeSolutions2/codespaces_setup\n",
      "   72116f3..46497f4  main       -> origin/main\n",
      "Updating 72116f3..46497f4\n",
      "Fast-forward\n",
      " FreeMono.ttf | Bin \u001b[31m0\u001b[m -> \u001b[32m343980\u001b[m bytes\n",
      " 1 file changed, 0 insertions(+), 0 deletions(-)\n",
      " create mode 100644 FreeMono.ttf\n"
     ]
    }
   ],
   "source": [
    "!git pull"
   ]
  },
  {
   "cell_type": "code",
   "execution_count": 42,
   "id": "d036e9f8-7d45-47a4-bf26-2abbeedf1961",
   "metadata": {},
   "outputs": [],
   "source": [
    "!git add ."
   ]
  },
  {
   "cell_type": "code",
   "execution_count": 43,
   "id": "f361fc91-8e30-4411-af79-a44946f9c6f5",
   "metadata": {},
   "outputs": [
    {
     "name": "stdout",
     "output_type": "stream",
     "text": [
      "[main 3dc471d] Updating repository\n",
      " 5 files changed, 362 insertions(+)\n",
      " create mode 100644 .ipynb_checkpoints/Untitled-checkpoint.ipynb\n",
      " create mode 100644 Untitled.ipynb\n",
      " create mode 100644 negative_sentiment.png\n",
      " create mode 100644 neutral_sentiment.png\n",
      " create mode 100644 positive_sentiment.png\n"
     ]
    }
   ],
   "source": [
    "!git commit -m \"Updating repository\""
   ]
  },
  {
   "cell_type": "code",
   "execution_count": 44,
   "id": "877f7cc0-6e1a-4d75-8601-0674cf35192f",
   "metadata": {},
   "outputs": [
    {
     "name": "stdout",
     "output_type": "stream",
     "text": [
      "Enumerating objects: 9, done.\n",
      "Counting objects: 100% (9/9), done.\n",
      "Delta compression using up to 2 threads\n",
      "Compressing objects: 100% (8/8), done.\n",
      "Writing objects: 100% (8/8), 22.75 KiB | 7.58 MiB/s, done.\n",
      "Total 8 (delta 0), reused 0 (delta 0), pack-reused 0 (from 0)\n",
      "To https://github.com/CodeSolutions2/codespaces_setup\n",
      "   46497f4..3dc471d  main -> main\n"
     ]
    }
   ],
   "source": [
    "!git push"
   ]
  },
  {
   "cell_type": "code",
   "execution_count": null,
   "id": "d646761f-7d70-4d87-973a-64e7ab4a56cd",
   "metadata": {},
   "outputs": [],
   "source": []
  }
 ],
 "metadata": {
  "kernelspec": {
   "display_name": "Python 3 (ipykernel)",
   "language": "python",
   "name": "python3"
  },
  "language_info": {
   "codemirror_mode": {
    "name": "ipython",
    "version": 3
   },
   "file_extension": ".py",
   "mimetype": "text/x-python",
   "name": "python",
   "nbconvert_exporter": "python",
   "pygments_lexer": "ipython3",
   "version": "3.10.13"
  }
 },
 "nbformat": 4,
 "nbformat_minor": 5
}
